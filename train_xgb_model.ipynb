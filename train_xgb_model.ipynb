{
 "cells": [
  {
   "cell_type": "code",
   "execution_count": 5,
   "metadata": {},
   "outputs": [],
   "source": [
    "import numpy as np\n",
    "from sklearn.model_selection import train_test_split,StratifiedKFold,cross_val_score,RandomizedSearchCV\n",
    "from sklearn.metrics import average_precision_score,accuracy_score,roc_auc_score,precision_recall_curve,roc_curve,precision_recall_fscore_support\n",
    "from xgboost import XGBClassifier\n",
    "import pandas as pd\n",
    "import matplotlib.pyplot as plt\n",
    "from sklearn.impute import SimpleImputer\n",
    "from sklearn.compose import ColumnTransformer\n",
    "from sklearn.pipeline import Pipeline\n",
    "from sklearn.preprocessing import RobustScaler,OneHotEncoder\n",
    "import joblib\n",
    "\n",
    "# Read UCI's census data sets 'adult.data' & 'adult.test'\n",
    "features=['age','workclass','fnlwgt','education','edu_num','marital_status',\n",
    "          'occupation','relationship','race','gender','capital_gain','capital_loss','hours_per_week',\n",
    "          'native_country','label']\n",
    "categorical_features= ['workclass','marital_status',\n",
    "          'occupation','relationship','race','gender','native_country']\n",
    "num_features=['age','fnlwgt','edu_num','capital_gain','capital_loss','hours_per_week']\n",
    "\n",
    "df = pd.read_csv('adult.data',header=None,names=features) \n",
    "df1 = pd.read_csv('adult.test',header=None,names=features) \n",
    "y_train = df['label']\n",
    "y_test = df1['label']\n",
    "X_train = df.drop(['label','education'],axis=1)\n",
    "X_test = df1.drop(['label','education'],axis=1)\n"
   ]
  },
  {
   "cell_type": "code",
   "execution_count": null,
   "metadata": {},
   "outputs": [],
   "source": [
    "# Train the xgboost classifier using sklearn pipeline.\n",
    "#\n",
    "categorical_pipe = Pipeline([\n",
    "    ('onehot', OneHotEncoder(handle_unknown='ignore'))\n",
    "])\n",
    "numerical_pipe = Pipeline([\n",
    "    ('imputer', SimpleImputer(strategy='mean')),\n",
    "    ('scaler',RobustScaler())\n",
    "])\n",
    "\n",
    "preprocessing = ColumnTransformer(\n",
    "    [('cat', categorical_pipe, categorical_features),\n",
    "     ('num', numerical_pipe, num_features),\n",
    "    ],remainder='passthrough')\n",
    "\n",
    "pipe = Pipeline([\n",
    "    ('preprocess', preprocessing),\n",
    "    ('classifier', XGBClassifier(booster='gbtree',missing=None))\n",
    "])\n",
    "\n",
    "\n",
    "# fit model no training data\n",
    "kfold = StratifiedKFold(n_splits=5)\n",
    "# Random search of xgboost hyper-parameters\n",
    "params = {'classifier__min_child_weight': [5, 10],\n",
    "        'classifier__gamma': [1, 1.5, 2, 5],\n",
    "        'classifier__subsample': [1.0],\n",
    "        'classifier__n_estimators':[60,80],\n",
    "        'classifier__scale_pos_weight':[3,4],\n",
    "        'classifier__max_depth': [4, 5,6]}\n",
    "random_search = RandomizedSearchCV(pipe, param_distributions=params, n_iter=50,\n",
    "                                   cv=kfold,scoring='roc_auc',n_jobs=4, verbose=3, random_state=1001)\n",
    "\n",
    "search = random_search.fit(X_train,y_train)\n",
    "\n",
    "print(search.best_params_)\n",
    "# Save the model.\n",
    "joblib.dump(search.best_estimator_,'model.joblib')\n",
    "model = search.best_estimator_"
   ]
  },
  {
   "cell_type": "code",
   "execution_count": 7,
   "metadata": {},
   "outputs": [],
   "source": [
    "# model = joblib.load('model.joblib')\n"
   ]
  },
  {
   "cell_type": "code",
   "execution_count": 9,
   "metadata": {},
   "outputs": [
    {
     "name": "stdout",
     "output_type": "stream",
     "text": [
      "Training accuracy: 82.89%,average precision:85.08%\n",
      "Training:income > $50K ,Precision: 0.5937241948802643;Recall: 0.9169748756536156\n"
     ]
    }
   ],
   "source": [
    "# Print out training performance\n",
    "y_prob = model.predict_proba(X_train)\n",
    "predictions = model.predict(X_train)\n",
    "accuracy = accuracy_score(y_train, predictions)\n",
    "ap = average_precision_score(y_train, y_prob[:,1],pos_label=' >50K')\n",
    "\n",
    "print(\"Training accuracy: %.2f%%,average precision:%.2f%%\" % (accuracy * 100.0,ap * 100.0))\n",
    "result=precision_recall_fscore_support(y_train, predictions,pos_label=' >50K',average='binary')\n",
    "print(\"Training:income > $50K ,Precision: {};Recall: {}\".format(result[0],result[1]))"
   ]
  },
  {
   "cell_type": "code",
   "execution_count": 10,
   "metadata": {},
   "outputs": [
    {
     "name": "stdout",
     "output_type": "stream",
     "text": [
      "Prediction accuracy: 81.83%,average precision:82.65%\n",
      "Prediction:income > $50K ,Precision: 0.574052429453999;Recall: 0.8939157566302652\n"
     ]
    },
    {
     "data": {
      "image/png": "[encoded data removed]",
      "text/plain": [
       "<Figure size 432x288 with 1 Axes>"
      ]
     },
     "metadata": {
      "needs_background": "light"
     },
     "output_type": "display_data"
    },
    {
     "data": {
      "image/png": "[encoded data removed]",
      "text/plain": [
       "<Figure size 432x288 with 1 Axes>"
      ]
     },
     "metadata": {
      "needs_background": "light"
     },
     "output_type": "display_data"
    }
   ],
   "source": [
    "# Print out testing performance\n",
    "y_prob = model.predict_proba(X_test)\n",
    "\n",
    "predictions = model.predict(X_test)\n",
    "accuracy = accuracy_score(y_test, predictions)\n",
    "ap = average_precision_score(y_test, y_prob[:,1],pos_label=' >50K')\n",
    "print(\"Prediction accuracy: %.2f%%,average precision:%.2f%%\" % (accuracy * 100.0,ap * 100.0))\n",
    "result=precision_recall_fscore_support(y_test, predictions,pos_label=' >50K',average='binary')\n",
    "print(\"Prediction:income > $50K ,Precision: {};Recall: {}\".format(result[0],result[1]))\n",
    "\n",
    "precision, recall, thresholds = precision_recall_curve(y_test, y_prob[:,1],pos_label=' >50K')\n",
    "plt.plot(recall, precision, marker='.', label='xgboost')\n",
    "# axis labels\n",
    "plt.xlabel('Recall')\n",
    "plt.ylabel('Precision')\n",
    "# show the legend\n",
    "plt.legend()\n",
    "# show the plot\n",
    "plt.show()\n",
    "\n",
    "fpr, tpr, thresholds = roc_curve(y_test, y_prob[:,1],pos_label=' >50K')\n",
    "plt.plot(fpr, tpr, marker='.', label='xgboost')\n",
    "# axis labels\n",
    "plt.xlabel('FPR')\n",
    "plt.ylabel('TPR')\n",
    "# show the legend\n",
    "plt.legend()\n",
    "# show the plot\n",
    "plt.show()"
   ]
  },
  {
   "cell_type": "code",
   "execution_count": null,
   "metadata": {},
   "outputs": [],
   "source": []
  }
 ],
 "metadata": {
  "kernelspec": {
   "display_name": "Python 3",
   "language": "python",
   "name": "python3"
  },
  "language_info": {
   "codemirror_mode": {
    "name": "ipython",
    "version": 3
   },
   "file_extension": ".py",
   "mimetype": "text/x-python",
   "name": "python",
   "nbconvert_exporter": "python",
   "pygments_lexer": "ipython3",
   "version": "3.7.6"
  }
 },
 "nbformat": 4,
 "nbformat_minor": 4
}
