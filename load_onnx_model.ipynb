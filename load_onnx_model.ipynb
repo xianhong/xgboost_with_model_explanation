{
 "cells": [
  {
   "cell_type": "code",
   "execution_count": 1,
   "metadata": {},
   "outputs": [],
   "source": [
    "import pandas as pd\n",
    "# Read UCI's census data sets 'adult.data' & 'adult.test'\n",
    "#\n",
    "features=['age','workclass','fnlwgt','education','edu_num','marital_status',\n",
    "          'occupation','relationship','race','gender','capital_gain','capital_loss','hours_per_week',\n",
    "          'native_country','label']\n",
    "df1 = pd.read_csv('adult.test',header=None,names=features) \n",
    "y_test = df1['label']\n",
    "X_test = df1.drop(['label','education'],axis=1)"
   ]
  },
  {
   "cell_type": "code",
   "execution_count": 2,
   "metadata": {},
   "outputs": [
    {
     "data": {
      "text/plain": [
       "16281"
      ]
     },
     "execution_count": 2,
     "metadata": {},
     "output_type": "execute_result"
    }
   ],
   "source": [
    "len(X_test)"
   ]
  },
  {
   "cell_type": "code",
   "execution_count": 3,
   "metadata": {},
   "outputs": [],
   "source": [
    "# Load ONNX model from file and Compute the prediction with ONNX Runtime\n",
    "import onnxruntime as rt\n",
    "import numpy as np\n",
    "\n",
    "sess = rt.InferenceSession(\"pipeline_xgboost.onnx\")\n",
    "\n",
    "input_list = {c: X_test[c].values.reshape((-1, 1))\n",
    "          for c in X_test.columns}\n",
    "pred_onx = sess.run(None, input_list)"
   ]
  },
  {
   "cell_type": "code",
   "execution_count": 4,
   "metadata": {},
   "outputs": [
    {
     "data": {
      "text/plain": [
       "13441"
      ]
     },
     "execution_count": 4,
     "metadata": {},
     "output_type": "execute_result"
    }
   ],
   "source": [
    "np.sum(pred_onx[0]==y_test)"
   ]
  },
  {
   "cell_type": "code",
   "execution_count": 5,
   "metadata": {},
   "outputs": [
    {
     "data": {
      "text/plain": [
       "0.825563540323076"
      ]
     },
     "execution_count": 5,
     "metadata": {},
     "output_type": "execute_result"
    }
   ],
   "source": [
    "13441/16281"
   ]
  },
  {
   "cell_type": "code",
   "execution_count": 6,
   "metadata": {},
   "outputs": [
    {
     "data": {
      "text/plain": [
       "array([[0.96502864, 0.03497136],\n",
       "       [0.8520465 , 0.14795351],\n",
       "       [0.94681865, 0.05318135],\n",
       "       ...,\n",
       "       [0.87327397, 0.12672603],\n",
       "       [0.10270745, 0.89729255],\n",
       "       [0.7667189 , 0.23328108]], dtype=float32)"
      ]
     },
     "execution_count": 6,
     "metadata": {},
     "output_type": "execute_result"
    }
   ],
   "source": [
    "pred_onx[1]"
   ]
  },
  {
   "cell_type": "code",
   "execution_count": null,
   "metadata": {},
   "outputs": [],
   "source": []
  }
 ],
 "metadata": {
  "kernelspec": {
   "display_name": "Python 3",
   "language": "python",
   "name": "python3"
  },
  "language_info": {
   "codemirror_mode": {
    "name": "ipython",
    "version": 3
   },
   "file_extension": ".py",
   "mimetype": "text/x-python",
   "name": "python",
   "nbconvert_exporter": "python",
   "pygments_lexer": "ipython3",
   "version": "3.6.9"
  }
 },
 "nbformat": 4,
 "nbformat_minor": 4
}
