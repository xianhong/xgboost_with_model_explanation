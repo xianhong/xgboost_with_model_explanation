{
 "cells": [
  {
   "cell_type": "code",
   "execution_count": 3,
   "metadata": {},
   "outputs": [],
   "source": [
    "import skl2onnx\n",
    "from xgboost import XGBClassifier\n",
    "from skl2onnx.common.data_types import FloatTensorType\n",
    "from skl2onnx import convert_sklearn, update_registered_converter\n",
    "from skl2onnx.common.shape_calculator import calculate_linear_classifier_output_shapes  # noqa\n",
    "import onnxmltools\n",
    "from onnxmltools.convert.xgboost.operator_converters.XGBoost import convert_xgboost  # noqa\n",
    "import onnxmltools.convert.common.data_types\n",
    "from skl2onnx.common.data_types import FloatTensorType, StringTensorType,Int64TensorType,BooleanTensorType\n",
    "# Register xgboostclassifier converter\n",
    "update_registered_converter(\n",
    "    XGBClassifier, 'XGBoostXGBClassifier',\n",
    "    calculate_linear_classifier_output_shapes, convert_xgboost,\n",
    "    options={'nocl': [True, False], 'zipmap': [True, False]})\n"
   ]
  },
  {
   "cell_type": "code",
   "execution_count": 4,
   "metadata": {},
   "outputs": [],
   "source": [
    "from sklearn.externals import joblib\n",
    "model = joblib.load('model.joblib')"
   ]
  },
  {
   "cell_type": "code",
   "execution_count": 5,
   "metadata": {},
   "outputs": [],
   "source": [
    "# Read UCI's census data sets 'adult.data' & 'adult.test'\n",
    "import pandas as pd\n",
    "features=['age','workclass','fnlwgt','education','edu_num','marital_status',\n",
    "          'occupation','relationship','race','gender','capital_gain','capital_loss','hours_per_week',\n",
    "          'native_country','label']\n",
    "categorical_features= ['workclass','marital_status',\n",
    "          'occupation','relationship','race','gender','native_country']\n",
    "num_features=['age','fnlwgt','edu_num','capital_gain','capital_loss','hours_per_week']\n",
    "\n",
    "df = pd.read_csv('adult.data',header=None,names=features) \n",
    "y_train = df['label']\n",
    "X_train = df.drop(['label','education'],axis=1)\n"
   ]
  },
  {
   "cell_type": "code",
   "execution_count": 6,
   "metadata": {},
   "outputs": [],
   "source": [
    "def convert_dataframe_schema(df, drop=None):\n",
    "    inputs = []\n",
    "    for k, v in zip(df.columns, df.dtypes):\n",
    "        if drop is not None and k in drop:\n",
    "            continue\n",
    "        if v == 'int64' or v == 'bool':\n",
    "            t = Int64TensorType([None, 1])\n",
    "        elif v == 'float32':\n",
    "            t = FloatTensorType([None, 1])\n",
    "        else:\n",
    "            t = StringTensorType([None, 1])\n",
    "        inputs.append((k, t))\n",
    "    return inputs\n",
    "'''\n",
    "to_drop = {'parch', 'sibsp', 'cabin', 'ticket',\n",
    "           'name', 'body', 'home.dest', 'boat'}\n",
    "'''\n",
    "inputs = convert_dataframe_schema(X_train)#, to_drop)\n"
   ]
  },
  {
   "cell_type": "code",
   "execution_count": 8,
   "metadata": {},
   "outputs": [],
   "source": [
    "# Convert SKLEARN model to ONNX format.\n",
    "\n",
    "model_onnx = convert_sklearn(\n",
    "    model, 'pipeline_xgboost',\n",
    "    initial_types=inputs,\n",
    "    target_opset=12)\n",
    "\n",
    "# And save.\n",
    "with open(\"pipeline_xgboost.onnx\", \"wb\") as f:\n",
    "    f.write(model_onnx.SerializeToString())"
   ]
  },
  {
   "cell_type": "code",
   "execution_count": null,
   "metadata": {},
   "outputs": [],
   "source": []
  }
 ],
 "metadata": {
  "kernelspec": {
   "display_name": "Python 3",
   "language": "python",
   "name": "python3"
  },
  "language_info": {
   "codemirror_mode": {
    "name": "ipython",
    "version": 3
   },
   "file_extension": ".py",
   "mimetype": "text/x-python",
   "name": "python",
   "nbconvert_exporter": "python",
   "pygments_lexer": "ipython3",
   "version": "3.7.6"
  }
 },
 "nbformat": 4,
 "nbformat_minor": 4
}
